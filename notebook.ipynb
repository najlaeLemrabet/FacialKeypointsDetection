{
 "cells": [
  {
   "cell_type": "code",
   "execution_count": null,
   "id": "imperial-quick",
   "metadata": {},
   "outputs": [],
   "source": [
    "import os\n",
    "import cv2\n",
    "import numpy as np\n",
    "import pandas as pd\n",
    "from PIL import Image\n",
    "from tqdm import tqdm\n",
    "import matplotlib.pyplot as plt\n",
    "import torch\n",
    "import torch.nn as nn\n",
    "import torch.optim as optim\n",
    "from torch.utils.data import DataLoader\n",
    "import torchvision.transforms as transforms\n",
    "import albumentations as A\n",
    "from albumentations.pytorch import ToTensorV2\n",
    "from efficientnet_pytorch import EfficientNet"
   ]
  },
  {
   "cell_type": "markdown",
   "id": "powered-skirt",
   "metadata": {},
   "source": [
    "## DATASET"
   ]
  },
  {
   "cell_type": "code",
   "execution_count": null,
   "id": "empirical-brown",
   "metadata": {},
   "outputs": [],
   "source": [
    "class KeypointsDataset(torch.utils.data.Dataset):\n",
    "    def __init__(self, csv_file, transform):\n",
    "        self.annotation = pd.read_csv(csv_file).dropna(axis=0, how='any')\n",
    "        self.annotation = self.annotation.reset_index(drop=True)\n",
    "        self.transform = transform\n",
    "       \n",
    "    def __len__(self):\n",
    "        return len(self.annotation)\n",
    "    \n",
    "    def __getitem__(self, index):\n",
    "        img = self.annotation.iloc[index][\"Image\"]\n",
    "        image = np.array(img.split()).reshape(96, 96)\n",
    "        image = np.repeat(image.reshape(96,96,1),3,2).astype(np.uint8)\n",
    "        keypoints = self.annotation.iloc[index].to_numpy()[:-1].reshape(-1,2)\n",
    "        augmentations = self.transform(image=image, keypoints=keypoints)\n",
    "        image = augmentations[\"image\"]\n",
    "        keypoints = np.array(augmentations[\"keypoints\"]).reshape(-1)\n",
    "        return image, keypoints\n",
    "    \n",
    "    def __show_img_annotated__(self, index):\n",
    "        img = self.annotation.iloc[index][\"Image\"]\n",
    "        image = np.array(img.split()).astype(np.uint8).reshape(96, 96)\n",
    "        #image = Image.fromarray(image, 'L')\n",
    "        plt.imshow(image, cmap=\"gray\")\n",
    "        keypoints = self.annotation.iloc[index].to_numpy()[:-1].reshape(-1,2)\n",
    "        plt.scatter(keypoints[:,0], keypoints[:,1], c=\"white\")\n",
    "        plt.show()"
   ]
  },
  {
   "cell_type": "code",
   "execution_count": null,
   "id": "damaged-player",
   "metadata": {},
   "outputs": [],
   "source": [
    "transform = A.Compose([A.Resize(width=96, height=96),\n",
    "                       ToTensorV2(),\n",
    "                      ], keypoint_params=A.KeypointParams(format=\"xy\", remove_invisible=False))"
   ]
  },
  {
   "cell_type": "code",
   "execution_count": null,
   "id": "accepting-rates",
   "metadata": {},
   "outputs": [],
   "source": [
    "dataset = KeypointsDataset(\"trainingdataset.csv\", transform)"
   ]
  },
  {
   "cell_type": "code",
   "execution_count": null,
   "id": "compliant-gallery",
   "metadata": {},
   "outputs": [],
   "source": [
    "dataset.__show_img_annotated__(590)"
   ]
  },
  {
   "cell_type": "code",
   "execution_count": null,
   "id": "trained-suspension",
   "metadata": {},
   "outputs": [],
   "source": [
    "## split data\n",
    "train_size = int(np.floor(len(dataset)*0.8))\n",
    "test_size = len(dataset) - train_size\n",
    "train_data, test_data = torch.utils.data.random_split(dataset, [train_size, test_size])"
   ]
  },
  {
   "cell_type": "markdown",
   "id": "bacterial-solomon",
   "metadata": {},
   "source": [
    "## MODEL: efficientNet"
   ]
  },
  {
   "cell_type": "code",
   "execution_count": null,
   "id": "amateur-alexander",
   "metadata": {},
   "outputs": [],
   "source": [
    "device = \"cuda\" if torch.cuda.is_available() else \"cpu\""
   ]
  },
  {
   "cell_type": "code",
   "execution_count": null,
   "id": "behavioral-happiness",
   "metadata": {},
   "outputs": [],
   "source": [
    "model = EfficientNet.from_pretrained('efficientnet-b0')\n",
    "model._fc = nn.Sequential(nn.Linear(1280, 30))\n",
    "model = model.to(device)"
   ]
  },
  {
   "cell_type": "markdown",
   "id": "humanitarian-samba",
   "metadata": {},
   "source": [
    "## TRAINING"
   ]
  },
  {
   "cell_type": "code",
   "execution_count": null,
   "id": "frozen-chester",
   "metadata": {},
   "outputs": [],
   "source": [
    "# Hyperparameters\n",
    "EPOCH = 10\n",
    "LR = 1e-4\n",
    "BATCH_SIZE = 64\n",
    "loss_function = nn.MSELoss(reduction=\"sum\")\n",
    "optimizer = torch.optim.Adam(model.parameters(), lr=LR)"
   ]
  },
  {
   "cell_type": "code",
   "execution_count": null,
   "id": "julian-technician",
   "metadata": {},
   "outputs": [],
   "source": [
    "train_loader = torch.utils.data.DataLoader(train_data, BATCH_SIZE, shuffle=True)"
   ]
  },
  {
   "cell_type": "code",
   "execution_count": null,
   "id": "bulgarian-editor",
   "metadata": {},
   "outputs": [],
   "source": [
    "def train(model):\n",
    "    for epoch in range(100):\n",
    "        losses = []\n",
    "        num_examples = 0\n",
    "        for batch in tqdm(train_loader):\n",
    "            X_batch ,Y_batch = batch[0].view(-1,3,96,96).to(device), batch[1].to(device)\n",
    "            output = model(X_batch.float())\n",
    "            loss = loss_function(output, Y_batch.float())\n",
    "            num_examples += torch.numel(Y_batch)\n",
    "            losses.append(loss)\n",
    "            model.zero_grad()\n",
    "            loss.backward()\n",
    "            optimizer.step()\n",
    "           \n",
    "        print(f\"Loss at epoch {epoch} is {(sum(losses)/num_examples)}\")"
   ]
  },
  {
   "cell_type": "code",
   "execution_count": null,
   "id": "metric-setting",
   "metadata": {},
   "outputs": [],
   "source": [
    "train(model)"
   ]
  },
  {
   "cell_type": "code",
   "execution_count": null,
   "id": "attached-joseph",
   "metadata": {},
   "outputs": [],
   "source": []
  }
 ],
 "metadata": {
  "kernelspec": {
   "display_name": "Python 3",
   "language": "python",
   "name": "python3"
  },
  "language_info": {
   "codemirror_mode": {
    "name": "ipython",
    "version": 3
   },
   "file_extension": ".py",
   "mimetype": "text/x-python",
   "name": "python",
   "nbconvert_exporter": "python",
   "pygments_lexer": "ipython3",
   "version": "3.8.8"
  }
 },
 "nbformat": 4,
 "nbformat_minor": 5
}
